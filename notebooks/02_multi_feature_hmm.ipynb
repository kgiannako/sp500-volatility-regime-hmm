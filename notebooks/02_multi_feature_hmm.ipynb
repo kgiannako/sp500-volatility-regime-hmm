{
 "cells": [
  {
   "cell_type": "code",
   "execution_count": 6,
   "id": "d854cf72",
   "metadata": {},
   "outputs": [],
   "source": [
    "from hmmlearn.hmm import GaussianHMM\n",
    "from sklearn.preprocessing import StandardScaler\n",
    "import yfinance as yf\n",
    "import pandas as pd\n",
    "import numpy as np\n",
    "from sklearn.linear_model import LinearRegression\n"
   ]
  },
  {
   "cell_type": "markdown",
   "id": "823832fb",
   "metadata": {},
   "source": [
    "# Custom Functions"
   ]
  },
  {
   "cell_type": "code",
   "execution_count": 2,
   "id": "e0d619cb",
   "metadata": {},
   "outputs": [],
   "source": [
    "def compute_features(prices, freq='D'):\n",
    "    \"\"\"\n",
    "    Compute HMM features: returns, volatility, momentum, trend, drawdown.\n",
    "    freq: 'D' for daily, 'W' for weekly.\n",
    "    \"\"\"\n",
    "    df = pd.DataFrame({'Close': prices})\n",
    "    \n",
    "    # 1. Log returns\n",
    "    df['LogReturn'] = np.log(df['Close'] / df['Close'].shift(1))\n",
    "    \n",
    "    # 2. Volatility\n",
    "    if freq == 'D':\n",
    "        df['Volatility'] = df['LogReturn'].rolling(15).std()\n",
    "    else:  # weekly\n",
    "        df['Volatility'] = df['LogReturn'].rolling(13).std()\n",
    "    \n",
    "    # 3. Momentum (MA ratio)\n",
    "    ma_short = 20 if freq == 'D' else 13\n",
    "    ma_long = 60 if freq == 'D' else 26\n",
    "    df['Momentum'] = df['Close'].rolling(ma_short).mean() / df['Close'].rolling(ma_long).mean() - 1\n",
    "    \n",
    "    # 4. Trend (regression slope)\n",
    "    def regression_slope(series):\n",
    "        y = series.values\n",
    "        x = np.arange(len(y))\n",
    "        if len(y) < 2:\n",
    "            return np.nan\n",
    "        slope = np.polyfit(x, y, 1)[0]\n",
    "        return slope\n",
    "    win = 60 if freq == 'D' else 26\n",
    "    df['Trend'] = df['Close'].rolling(win).apply(regression_slope, raw=False)\n",
    "    \n",
    "    # 5. Drawdown from 6-month peak\n",
    "    peak = df['Close'].rolling(126 if freq == 'D' else 26).max()\n",
    "    df['Drawdown'] = (df['Close'] - peak) / peak\n",
    "    \n",
    "    return df.dropna()\n"
   ]
  },
  {
   "cell_type": "code",
   "execution_count": 3,
   "id": "a86965fe",
   "metadata": {},
   "outputs": [],
   "source": [
    "def fit_hmm(features, n_states=3):\n",
    "    \"\"\"\n",
    "    Fit an HMM and return model and scaler.\n",
    "    \"\"\"\n",
    "    scaler = StandardScaler()\n",
    "    X_scaled = scaler.fit_transform(features)\n",
    "    model = GaussianHMM(n_components=n_states, covariance_type='full', n_iter=500, random_state=42)\n",
    "    model.fit(X_scaled)\n",
    "    return model, scaler\n",
    "\n",
    "def predict_states(model, scaler, features):\n",
    "    \"\"\"\n",
    "    Predict HMM states from given features.\n",
    "    \"\"\"\n",
    "    X_scaled = scaler.transform(features)\n",
    "    return model.predict(X_scaled)"
   ]
  },
  {
   "cell_type": "code",
   "execution_count": 4,
   "id": "b8ba8741",
   "metadata": {},
   "outputs": [],
   "source": [
    "def backtest_hmm_strategy(prices, states, invest_states):\n",
    "    \"\"\"\n",
    "    Backtest strategy: invest only when state is in invest_states.\n",
    "    \"\"\"\n",
    "    df = pd.DataFrame({'Close': prices, 'State': states})\n",
    "    df['Return'] = df['Close'].pct_change()\n",
    "    df['Strategy'] = np.where(df['State'].shift(1).isin(invest_states), df['Return'], 0)\n",
    "    df['EquityCurve'] = (1 + df['Strategy']).cumprod()\n",
    "    return df"
   ]
  },
  {
   "cell_type": "code",
   "execution_count": null,
   "id": "3c3bc3bc",
   "metadata": {},
   "outputs": [],
   "source": [
    "def compute_metrics(strategy_df, periods_per_year=252):\n",
    "    ret = strategy_df['Strategy']\n",
    "    ann_ret = (1 + ret.mean())**periods_per_year - 1\n",
    "    ann_vol = ret.std() * np.sqrt(periods_per_year)\n",
    "    sharpe = ann_ret / ann_vol if ann_vol != 0 else np.nan\n",
    "    downside = ret[ret < 0].std() * np.sqrt(periods_per_year)\n",
    "    sortino = ann_ret / downside if downside != 0 else np.nan\n",
    "    max_dd = (strategy_df['EquityCurve'] / strategy_df['EquityCurve'].cummax() - 1).min()\n",
    "    return ann_ret, ann_vol, sharpe, sortino, max_dd"
   ]
  },
  {
   "cell_type": "code",
   "execution_count": 19,
   "id": "78ec0d7a",
   "metadata": {},
   "outputs": [],
   "source": [
    "# --- Feature Engineering Functions ---\n",
    "\n",
    "def compute_volatility(prices: pd.Series, window: int) -> pd.Series:\n",
    "    \"\"\"Rolling volatility (std dev of log returns).\"\"\"\n",
    "    log_returns = np.log(prices / prices.shift(1))\n",
    "    return log_returns.rolling(window).std()\n",
    "\n",
    "def compute_momentum(prices: pd.Series, window: int) -> pd.Series:\n",
    "    \"\"\"Momentum via SMA ratio (price / SMA - 1).\"\"\"\n",
    "    sma = prices.rolling(window).mean()\n",
    "    return prices / sma - 1\n",
    "\n",
    "def compute_trend(prices: pd.Series, window: int) -> pd.Series:\n",
    "    \"\"\"\n",
    "    Trend via rolling regression slope of log prices.\n",
    "    Slope is scaled to represent percentage change per period.\n",
    "    \"\"\"\n",
    "    log_prices = np.log(prices)\n",
    "    slopes = []\n",
    "    x = np.arange(window).reshape(-1, 1)\n",
    "    for i in range(len(prices)):\n",
    "        if i < window:\n",
    "            slopes.append(np.nan)\n",
    "        else:\n",
    "            y = log_prices.iloc[i-window+1:i+1].values.reshape(-1, 1)\n",
    "            model = LinearRegression().fit(x, y)\n",
    "            slopes.append(model.coef_[0][0])\n",
    "    return pd.Series(slopes, index=prices.index)\n",
    "\n",
    "def compute_drawdown(prices: pd.Series, window: int) -> pd.Series:\n",
    "    \"\"\"Drawdown relative to rolling peak over given window.\"\"\"\n",
    "    rolling_peak = prices.rolling(window).max()\n",
    "    return prices / rolling_peak - 1\n",
    "\n",
    "def add_features(prices: pd.Series, freq: str) -> pd.DataFrame:\n",
    "    \"\"\"\n",
    "    Add log return plus volatility, momentum, trend, and drawdown for daily or weekly prices.\n",
    "    freq: 'D' for daily, 'W' for weekly\n",
    "    \"\"\"\n",
    "    df = pd.DataFrame({'Close': prices})\n",
    "    \n",
    "    # Log return (always included)\n",
    "    df['LogReturn'] = np.log(df['Close'] / df['Close'].shift(1))\n",
    "    \n",
    "    # Set rolling window lengths based on frequency\n",
    "    if freq == 'D':\n",
    "        vol_window = 15\n",
    "        mom_window = 50\n",
    "        trend_window = 50\n",
    "        dd_window = 126  # ~6 months trading days\n",
    "    elif freq == 'W':\n",
    "        vol_window = 13\n",
    "        mom_window = 26\n",
    "        trend_window = 26\n",
    "        dd_window = 26  # ~6 months weeks\n",
    "    else:\n",
    "        raise ValueError(\"freq must be 'D' or 'W'\")\n",
    "    \n",
    "    # Other features\n",
    "    df['Volatility'] = compute_volatility(df['Close'], vol_window)\n",
    "    df['Momentum']   = compute_momentum(df['Close'], mom_window)\n",
    "    df['Trend']      = compute_trend(df['Close'], trend_window)\n",
    "    df['Drawdown']   = compute_drawdown(df['Close'], dd_window)\n",
    "    \n",
    "    return df.dropna()\n",
    "\n"
   ]
  },
  {
   "cell_type": "code",
   "execution_count": 16,
   "id": "63a175c8",
   "metadata": {},
   "outputs": [],
   "source": [
    "def train_hmm_models(train_df, feature_sets, n_states=3):\n",
    "    models = {}\n",
    "    for name, features in feature_sets.items():\n",
    "        X = train_df[features].dropna()\n",
    "        model = GaussianHMM(n_components=n_states, covariance_type='full', random_state=23)\n",
    "        model.fit(X)\n",
    "        models[name] = {\n",
    "            'model': model,\n",
    "            'features': features\n",
    "        }\n",
    "    return models\n"
   ]
  },
  {
   "cell_type": "markdown",
   "id": "f8535e15",
   "metadata": {},
   "source": [
    "# Load data"
   ]
  },
  {
   "cell_type": "code",
   "execution_count": 20,
   "id": "ce371c59",
   "metadata": {},
   "outputs": [
    {
     "name": "stderr",
     "output_type": "stream",
     "text": [
      "C:\\Users\\User\\AppData\\Local\\Temp\\ipykernel_13484\\3014188977.py:8: FutureWarning: YF.download() has changed argument auto_adjust default to True\n",
      "  sp500 = yf.download(ticker, start=start_date, end=end_date, interval=\"1d\")['Close']\n",
      "[*********************100%***********************]  1 of 1 completed\n"
     ]
    },
    {
     "name": "stdout",
     "output_type": "stream",
     "text": [
      "Daily prices: 1995-01-03 00:00:00 → 2025-07-29 00:00:00 Count: 7694\n",
      "Weekly prices: 1995-01-06 00:00:00 → 2025-08-01 00:00:00 Count: 1596\n",
      "\n",
      "Training set (daily): 1995-01-03 00:00:00 → 2025-04-30 00:00:00 Count: 7633\n",
      "Testing set  (daily): 2025-04-30 00:00:00 → 2025-07-29 00:00:00 Count: 62\n",
      "\n",
      "Training set (weekly): 1995-01-06 00:00:00 → 2025-04-25 00:00:00 Count: 1582\n",
      "Testing set  (weekly): 2025-05-02 00:00:00 → 2025-08-01 00:00:00 Count: 14\n"
     ]
    }
   ],
   "source": [
    "# --- Parameters ---\n",
    "ticker = \"^GSPC\"  # S&P 500\n",
    "start_date = \"1995-01-01\"\n",
    "end_date = pd.Timestamp.today().strftime(\"%Y-%m-%d\")\n",
    "train_cutoff = \"2025-04-30\"\n",
    "\n",
    "# --- Download Daily Close Prices ---\n",
    "sp500 = yf.download(ticker, start=start_date, end=end_date, interval=\"1d\")['Close']\n",
    "sp500.name = \"Close\"\n",
    "\n",
    "# --- Resample to Weekly (Friday close) ---\n",
    "sp500_weekly = sp500.resample('W-FRI').last()\n",
    "\n",
    "# --- Split into training and testing sets ---\n",
    "sp500_train_daily = sp500.loc[:train_cutoff]\n",
    "sp500_test_daily = sp500.loc[train_cutoff:]\n",
    "\n",
    "sp500_train_weekly = sp500_weekly.loc[:train_cutoff]\n",
    "sp500_test_weekly = sp500_weekly.loc[train_cutoff:]\n",
    "\n",
    "# --- Summary ---\n",
    "print(\"Daily prices:\", sp500.index.min(), \"→\", sp500.index.max(), \"Count:\", len(sp500))\n",
    "print(\"Weekly prices:\", sp500_weekly.index.min(), \"→\", sp500_weekly.index.max(), \"Count:\", len(sp500_weekly))\n",
    "print(\"\\nTraining set (daily):\", sp500_train_daily.index.min(), \"→\", sp500_train_daily.index.max(), \"Count:\", len(sp500_train_daily))\n",
    "print(\"Testing set  (daily):\", sp500_test_daily.index.min(), \"→\", sp500_test_daily.index.max(), \"Count:\", len(sp500_test_daily))\n",
    "print(\"\\nTraining set (weekly):\", sp500_train_weekly.index.min(), \"→\", sp500_train_weekly.index.max(), \"Count:\", len(sp500_train_weekly))\n",
    "print(\"Testing set  (weekly):\", sp500_test_weekly.index.min(), \"→\", sp500_test_weekly.index.max(), \"Count:\", len(sp500_test_weekly))"
   ]
  },
  {
   "cell_type": "markdown",
   "id": "ed01aa55",
   "metadata": {},
   "source": [
    "# Feature Engineering"
   ]
  },
  {
   "cell_type": "code",
   "execution_count": 21,
   "id": "f94e2a18",
   "metadata": {},
   "outputs": [],
   "source": [
    "daily_features_train = add_features(sp500_train_daily['^GSPC'], 'D')\n",
    "weekly_features_train = add_features(sp500_train_weekly['^GSPC'], 'W')"
   ]
  },
  {
   "cell_type": "code",
   "execution_count": 22,
   "id": "3f00fb42",
   "metadata": {},
   "outputs": [
    {
     "data": {
      "application/vnd.microsoft.datawrangler.viewer.v0+json": {
       "columns": [
        {
         "name": "Date",
         "rawType": "datetime64[ns]",
         "type": "datetime"
        },
        {
         "name": "Close",
         "rawType": "float64",
         "type": "float"
        },
        {
         "name": "LogReturn",
         "rawType": "float64",
         "type": "float"
        },
        {
         "name": "Volatility",
         "rawType": "float64",
         "type": "float"
        },
        {
         "name": "Momentum",
         "rawType": "float64",
         "type": "float"
        },
        {
         "name": "Trend",
         "rawType": "float64",
         "type": "float"
        },
        {
         "name": "Drawdown",
         "rawType": "float64",
         "type": "float"
        }
       ],
       "ref": "8ca2fedf-c9af-47b5-93b3-8dd24e1206e0",
       "rows": [
        [
         "1995-06-30 00:00:00",
         "544.75",
         "0.001616735092946447",
         "0.005973982971535104",
         "0.029224889198815607",
         "0.0013501819600230081",
         "-0.011468610594334905"
        ],
        [
         "1995-07-03 00:00:00",
         "547.0900268554688",
         "0.004286397971731447",
         "0.005930308775148498",
         "0.032140563967296254",
         "0.0013309202335211774",
         "-0.007222277416394363"
        ],
        [
         "1995-07-05 00:00:00",
         "547.260009765625",
         "0.0003106554682414516",
         "0.00554389171658292",
         "0.03112404138715652",
         "0.00132646268947304",
         "-0.006913817678254053"
        ],
        [
         "1995-07-06 00:00:00",
         "553.989990234375",
         "0.012222591150352135",
         "0.006203530217446454",
         "0.04215928630007704",
         "0.00134075964524417",
         "0.0"
        ],
        [
         "1995-07-07 00:00:00",
         "556.3699951171875",
         "0.004286913359834591",
         "0.0062213546114690595",
         "0.04491811802130741",
         "0.0013602688413647801",
         "0.0"
        ]
       ],
       "shape": {
        "columns": 6,
        "rows": 5
       }
      },
      "text/html": [
       "<div>\n",
       "<style scoped>\n",
       "    .dataframe tbody tr th:only-of-type {\n",
       "        vertical-align: middle;\n",
       "    }\n",
       "\n",
       "    .dataframe tbody tr th {\n",
       "        vertical-align: top;\n",
       "    }\n",
       "\n",
       "    .dataframe thead th {\n",
       "        text-align: right;\n",
       "    }\n",
       "</style>\n",
       "<table border=\"1\" class=\"dataframe\">\n",
       "  <thead>\n",
       "    <tr style=\"text-align: right;\">\n",
       "      <th></th>\n",
       "      <th>Close</th>\n",
       "      <th>LogReturn</th>\n",
       "      <th>Volatility</th>\n",
       "      <th>Momentum</th>\n",
       "      <th>Trend</th>\n",
       "      <th>Drawdown</th>\n",
       "    </tr>\n",
       "    <tr>\n",
       "      <th>Date</th>\n",
       "      <th></th>\n",
       "      <th></th>\n",
       "      <th></th>\n",
       "      <th></th>\n",
       "      <th></th>\n",
       "      <th></th>\n",
       "    </tr>\n",
       "  </thead>\n",
       "  <tbody>\n",
       "    <tr>\n",
       "      <th>1995-06-30</th>\n",
       "      <td>544.750000</td>\n",
       "      <td>0.001617</td>\n",
       "      <td>0.005974</td>\n",
       "      <td>0.029225</td>\n",
       "      <td>0.001350</td>\n",
       "      <td>-0.011469</td>\n",
       "    </tr>\n",
       "    <tr>\n",
       "      <th>1995-07-03</th>\n",
       "      <td>547.090027</td>\n",
       "      <td>0.004286</td>\n",
       "      <td>0.005930</td>\n",
       "      <td>0.032141</td>\n",
       "      <td>0.001331</td>\n",
       "      <td>-0.007222</td>\n",
       "    </tr>\n",
       "    <tr>\n",
       "      <th>1995-07-05</th>\n",
       "      <td>547.260010</td>\n",
       "      <td>0.000311</td>\n",
       "      <td>0.005544</td>\n",
       "      <td>0.031124</td>\n",
       "      <td>0.001326</td>\n",
       "      <td>-0.006914</td>\n",
       "    </tr>\n",
       "    <tr>\n",
       "      <th>1995-07-06</th>\n",
       "      <td>553.989990</td>\n",
       "      <td>0.012223</td>\n",
       "      <td>0.006204</td>\n",
       "      <td>0.042159</td>\n",
       "      <td>0.001341</td>\n",
       "      <td>0.000000</td>\n",
       "    </tr>\n",
       "    <tr>\n",
       "      <th>1995-07-07</th>\n",
       "      <td>556.369995</td>\n",
       "      <td>0.004287</td>\n",
       "      <td>0.006221</td>\n",
       "      <td>0.044918</td>\n",
       "      <td>0.001360</td>\n",
       "      <td>0.000000</td>\n",
       "    </tr>\n",
       "  </tbody>\n",
       "</table>\n",
       "</div>"
      ],
      "text/plain": [
       "                 Close  LogReturn  Volatility  Momentum     Trend  Drawdown\n",
       "Date                                                                       \n",
       "1995-06-30  544.750000   0.001617    0.005974  0.029225  0.001350 -0.011469\n",
       "1995-07-03  547.090027   0.004286    0.005930  0.032141  0.001331 -0.007222\n",
       "1995-07-05  547.260010   0.000311    0.005544  0.031124  0.001326 -0.006914\n",
       "1995-07-06  553.989990   0.012223    0.006204  0.042159  0.001341  0.000000\n",
       "1995-07-07  556.369995   0.004287    0.006221  0.044918  0.001360  0.000000"
      ]
     },
     "execution_count": 22,
     "metadata": {},
     "output_type": "execute_result"
    }
   ],
   "source": [
    "daily_features_train.head()"
   ]
  },
  {
   "cell_type": "markdown",
   "id": "33cdf1c6",
   "metadata": {},
   "source": [
    "# Train HMM Models"
   ]
  },
  {
   "cell_type": "code",
   "execution_count": 23,
   "id": "6858bca2",
   "metadata": {},
   "outputs": [],
   "source": [
    "feature_sets = {\n",
    "    'logret': ['LogReturn'],\n",
    "    'logret_vol': ['LogReturn', 'Volatility'],\n",
    "    'logret_mom': ['LogReturn', 'Momentum'],\n",
    "    'logret_vol_mom': ['LogReturn', 'Volatility', 'Momentum'],\n",
    "    'logret_vol_mom_trend': ['LogReturn', 'Volatility', 'Momentum', 'Trend'],\n",
    "    'logret_vol_mom_trend_dd': ['LogReturn', 'Volatility', 'Momentum', 'Trend', 'Drawdown']\n",
    "}\n"
   ]
  },
  {
   "cell_type": "code",
   "execution_count": 25,
   "id": "009f109c",
   "metadata": {},
   "outputs": [
    {
     "name": "stderr",
     "output_type": "stream",
     "text": [
      "c:\\Users\\User\\anaconda3\\Lib\\site-packages\\sklearn\\cluster\\_kmeans.py:1382: UserWarning: KMeans is known to have a memory leak on Windows with MKL, when there are less chunks than available threads. You can avoid it by setting the environment variable OMP_NUM_THREADS=7.\n",
      "  warnings.warn(\n",
      "c:\\Users\\User\\anaconda3\\Lib\\site-packages\\sklearn\\cluster\\_kmeans.py:1382: UserWarning: KMeans is known to have a memory leak on Windows with MKL, when there are less chunks than available threads. You can avoid it by setting the environment variable OMP_NUM_THREADS=7.\n",
      "  warnings.warn(\n",
      "c:\\Users\\User\\anaconda3\\Lib\\site-packages\\sklearn\\cluster\\_kmeans.py:1382: UserWarning: KMeans is known to have a memory leak on Windows with MKL, when there are less chunks than available threads. You can avoid it by setting the environment variable OMP_NUM_THREADS=7.\n",
      "  warnings.warn(\n",
      "c:\\Users\\User\\anaconda3\\Lib\\site-packages\\sklearn\\cluster\\_kmeans.py:1382: UserWarning: KMeans is known to have a memory leak on Windows with MKL, when there are less chunks than available threads. You can avoid it by setting the environment variable OMP_NUM_THREADS=7.\n",
      "  warnings.warn(\n",
      "c:\\Users\\User\\anaconda3\\Lib\\site-packages\\sklearn\\cluster\\_kmeans.py:1382: UserWarning: KMeans is known to have a memory leak on Windows with MKL, when there are less chunks than available threads. You can avoid it by setting the environment variable OMP_NUM_THREADS=7.\n",
      "  warnings.warn(\n",
      "c:\\Users\\User\\anaconda3\\Lib\\site-packages\\sklearn\\cluster\\_kmeans.py:1382: UserWarning: KMeans is known to have a memory leak on Windows with MKL, when there are less chunks than available threads. You can avoid it by setting the environment variable OMP_NUM_THREADS=7.\n",
      "  warnings.warn(\n"
     ]
    }
   ],
   "source": [
    "# Train daily models\n",
    "daily_models = train_hmm_models(daily_features_train, feature_sets, n_states=3)\n",
    "\n",
    "# Train weekly models\n",
    "weekly_models = train_hmm_models(weekly_features_train, feature_sets, n_states=3)"
   ]
  }
 ],
 "metadata": {
  "kernelspec": {
   "display_name": "base",
   "language": "python",
   "name": "python3"
  },
  "language_info": {
   "codemirror_mode": {
    "name": "ipython",
    "version": 3
   },
   "file_extension": ".py",
   "mimetype": "text/x-python",
   "name": "python",
   "nbconvert_exporter": "python",
   "pygments_lexer": "ipython3",
   "version": "3.11.7"
  }
 },
 "nbformat": 4,
 "nbformat_minor": 5
}
